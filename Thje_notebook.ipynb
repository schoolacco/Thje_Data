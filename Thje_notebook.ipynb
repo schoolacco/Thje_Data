{
 "cells": [
  {
   "attachments": {},
   "cell_type": "markdown",
   "metadata": {},
   "source": [
    "# **Identifying and Defining**\n",
    "---\n",
    "---\n",
    "---\n",
    "## **Learning Intentions:**\n",
    "---\n",
    "---\n",
    "* Specify the functional requirements of a data analysis, including stating the purpose of a solution, describing use cases, and developing test cases of inputs and expected outputs.\n",
    "* Specify the non-functional requirements of a data analysis.\n",
    "---\n",
    "---\n",
    "## **Success Criteria:**\n",
    "---\n",
    "---\n",
    "* I can clearly state the purpose of a data analysis solution.\n",
    "* I can describe use cases that outline how the data analysis solution will be used.\n",
    "* I can develop test cases that include inputs and expected outputs for the data analysis solution.\n",
    "* I can specify non-functional requirements such as performance, scalability, security, and usability for a data analysis solution.\n",
    "* I can explain the importance of non-functional requirements in ensuring the overall quality and effectiveness of a data analysis solution.\n",
    "---\n",
    "---"
   ]
  },
  {
   "attachments": {},
   "cell_type": "markdown",
   "metadata": {},
   "source": [
    "## **Choose your Data Scenario and Define your Purpose**\n",
    "---\n",
    "---\n",
    "### **Data**\n",
    "The data to be analysed at the Sydney house prices from 2009-2019, it contains data of how many bedrooms, bathrooms, car spaces were in the property, it has information on the type of property, location (postcode and suburb) as well as the type of property.\n",
    "\n",
    "---\n",
    "### **Goal**\n",
    "The plan is to analyse the data to have an approximate idea of what drives the price of a house. I plan to ignore the price of a subrub instead focusing specifically on the amount of bedrooms, bathrooms and car spaces.\n",
    "\n",
    "---\n",
    "### **Source**\n",
    "[Source](https://www.kaggle.com/datasets/mihirhalai/sydney-house-prices/data)\n",
    "\n",
    "---\n",
    "### **Access**\n",
    "As you may have seen from the source the data is publicly available to anyone who would like to use it, all you have to do is register to the platform for no cost at all.\n",
    "\n",
    "---\n",
    "### **Access Method**\n",
    "The data will be accessed as a [.csv](https://support.google.com/google-ads/answer/9004364?hl=en-AU#:~:text=A%20CSV%20comma%2Dseparated%20values,in%20a%20table%20structured%20format.) file.\n",
    "\n",
    "---\n",
    "---\n",
    "\n"
   ]
  },
  {
   "attachments": {},
   "cell_type": "markdown",
   "metadata": {},
   "source": [
    "## **Functional Requirements**\n",
    "---\n",
    "---\n",
    "### **Data Loading**\n",
    "\n",
    "It must be capable of loading a .csv file type (as that is what the data uses), if there is an error in loading the file it will likely use a try, except method to give the user a message telling them that their file could not be loaded.\n",
    " \n",
    "---"
   ]
  }
 ],
 "metadata": {
  "kernelspec": {
   "display_name": "Python 3",
   "language": "python",
   "name": "python3"
  },
  "language_info": {
   "name": "python",
   "version": "3.9.2"
  },
  "orig_nbformat": 4
 },
 "nbformat": 4,
 "nbformat_minor": 2
}
